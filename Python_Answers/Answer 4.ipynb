{
 "cells": [
  {
   "cell_type": "code",
   "execution_count": 1,
   "id": "3d6f7d10",
   "metadata": {},
   "outputs": [
    {
     "name": "stdout",
     "output_type": "stream",
     "text": [
      "[[-2, -1, 1, 2], [-2, 0, 0, 2], [-1, 0, 0, 1]]\n"
     ]
    }
   ],
   "source": [
    "def fourSum(nums, target):\n",
    "    Result = list()                # Resultant list\n",
    "    \n",
    "    if nums is None or len(nums) < 4:     # Base condition\n",
    "        return Result\n",
    "    nums.sort()                         # Sort the array\n",
    "    n = len(nums)                       # Length of the array\n",
    "    for i in range(0, n - 3):           # Loop for each element of the array\n",
    "        if i > 0 and nums[i] == nums[i - 1]:        # Check for skipping duplicates\n",
    "            continue\n",
    "        for j in range(i + 1, n - 2):\n",
    "            if j != i + 1 and nums[j] == nums[j - 1]:    # Check for skipping duplicates\n",
    "                continue\n",
    "            k = j + 1\n",
    "            l = n - 1\n",
    "            while k < l:\n",
    "                current_sum = nums[i] + nums[j] + nums[k] + nums[l]\n",
    "                if current_sum < target:\n",
    "                    k += 1\n",
    "                elif current_sum > target:\n",
    "                    l -= 1\n",
    "                else:\n",
    "                    Result.append([nums[i], nums[j], nums[k], nums[l]])\n",
    "                    k += 1\n",
    "                    l -= 1\n",
    "                    while k < l and nums[k] == nums[k - 1]:\n",
    "                        k += 1\n",
    "                    while k < l and nums[l] == nums[l + 1]:\n",
    "                        l -= 1\n",
    "    return Result\n",
    "\n",
    "\n",
    "#example\n",
    "nums = [1,0,-1,0,-2,2]\n",
    "target = 0\n",
    "print(fourSum(nums, target))   #Output: [[-2, -1, 1, 2], [-2, 0, 0, 2], [-1, 0, 0, 1]]"
   ]
  }
 ],
 "metadata": {
  "kernelspec": {
   "display_name": "Python 3 (ipykernel)",
   "language": "python",
   "name": "python3"
  },
  "language_info": {
   "codemirror_mode": {
    "name": "ipython",
    "version": 3
   },
   "file_extension": ".py",
   "mimetype": "text/x-python",
   "name": "python",
   "nbconvert_exporter": "python",
   "pygments_lexer": "ipython3",
   "version": "3.11.3"
  }
 },
 "nbformat": 4,
 "nbformat_minor": 5
}
