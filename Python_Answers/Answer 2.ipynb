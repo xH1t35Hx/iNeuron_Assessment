{
 "cells": [
  {
   "cell_type": "code",
   "execution_count": 1,
   "id": "107c4187",
   "metadata": {},
   "outputs": [
    {
     "name": "stdout",
     "output_type": "stream",
     "text": [
      "3\n"
     ]
    }
   ],
   "source": [
    "def count_horses(stalls, distance):\n",
    "    count = 1\n",
    "    last_position = stalls[0]\n",
    "    for i in range(1, len(stalls)):\n",
    "        if stalls[i] - last_position >= distance:\n",
    "            count += 1\n",
    "            last_position = stalls[i]\n",
    "    return count\n",
    "\n",
    "def max_min_distance(stalls, k):\n",
    "    stalls.sort()\n",
    "    left = 1                               # Minimum possible distance\n",
    "    right = stalls[-1] - stalls[0]         # Maximum possible distance\n",
    "    result = 0\n",
    "\n",
    "    while left <= right:\n",
    "        mid = (left + right) // 2\n",
    "        if count_horses(stalls, mid) >= k:\n",
    "            result = mid\n",
    "            left = mid + 1\n",
    "        else:\n",
    "            right = mid - 1\n",
    "\n",
    "    return result\n",
    "\n",
    "# Example usage:\n",
    "stalls = [1, 2, 4, 8, 9]\n",
    "k = 3\n",
    "print(max_min_distance(stalls, k))  # Output: 3"
   ]
  }
 ],
 "metadata": {
  "kernelspec": {
   "display_name": "Python 3 (ipykernel)",
   "language": "python",
   "name": "python3"
  },
  "language_info": {
   "codemirror_mode": {
    "name": "ipython",
    "version": 3
   },
   "file_extension": ".py",
   "mimetype": "text/x-python",
   "name": "python",
   "nbconvert_exporter": "python",
   "pygments_lexer": "ipython3",
   "version": "3.11.3"
  }
 },
 "nbformat": 4,
 "nbformat_minor": 5
}
