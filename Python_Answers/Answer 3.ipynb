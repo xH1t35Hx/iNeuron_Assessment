{
 "cells": [
  {
   "cell_type": "code",
   "execution_count": 1,
   "id": "30715975",
   "metadata": {},
   "outputs": [
    {
     "name": "stdout",
     "output_type": "stream",
     "text": [
      "11 33\n",
      "---------------.|.---------------\n",
      "------------.|..|..|.------------\n",
      "---------.|..|..|..|..|.---------\n",
      "------.|..|..|..|..|..|..|.------\n",
      "---.|..|..|..|..|..|..|..|..|.---\n",
      "-------------WELCOME-------------\n",
      "---.|..|..|..|..|..|..|..|..|.---\n",
      "------.|..|..|..|..|..|..|.------\n",
      "---------.|..|..|..|..|.---------\n",
      "------------.|..|..|.------------\n",
      "---------------.|.---------------\n"
     ]
    }
   ],
   "source": [
    "# Get the height and width of the shape from the user\n",
    "height,width=list(map(int,input().split()))\n",
    "j=1                                  #to keep track of the number of dots\n",
    "for i in range(height):\n",
    "    if i<height//2 :                 #top half of the shape\n",
    "      print((\".|.\"*j).center(width,\"-\"))\n",
    "      j+=2\n",
    "    elif i==height//2:               #center row with the message \"WELCOME\"\n",
    "        print(\"WELCOME\".center(width,\"-\"))\n",
    "    elif i>height//2 :\n",
    "      j-=2                           #bottom half of the shape\n",
    "      print((\".|.\"*j).center(width,\"-\"))"
   ]
  }
 ],
 "metadata": {
  "kernelspec": {
   "display_name": "Python 3 (ipykernel)",
   "language": "python",
   "name": "python3"
  },
  "language_info": {
   "codemirror_mode": {
    "name": "ipython",
    "version": 3
   },
   "file_extension": ".py",
   "mimetype": "text/x-python",
   "name": "python",
   "nbconvert_exporter": "python",
   "pygments_lexer": "ipython3",
   "version": "3.11.3"
  }
 },
 "nbformat": 4,
 "nbformat_minor": 5
}
