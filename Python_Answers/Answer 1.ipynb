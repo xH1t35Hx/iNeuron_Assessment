{
 "cells": [
  {
   "cell_type": "code",
   "execution_count": 1,
   "id": "4de3cc22",
   "metadata": {},
   "outputs": [
    {
     "name": "stdout",
     "output_type": "stream",
     "text": [
      "{'abc': ['def', 'ghi', 'jkl', 'mno', 'pqr', 'stu', 'vwx', 'yz', 'abc.def.ghi.jkl.mno.pqr.stu.vwx.yz'], 'def': ['ghi', 'jkl', 'mno', 'pqr', 'stu', 'vwx', 'yz', 'abc.def.ghi.jkl.mno.pqr.stu.vwx.yz'], 'ghi': ['jkl', 'mno', 'pqr', 'stu', 'vwx', 'yz', 'abc.def.ghi.jkl.mno.pqr.stu.vwx.yz'], 'jkl': ['mno', 'pqr', 'stu', 'vwx', 'yz', 'abc.def.ghi.jkl.mno.pqr.stu.vwx.yz'], 'mno': ['pqr', 'stu', 'vwx', 'yz', 'abc.def.ghi.jkl.mno.pqr.stu.vwx.yz'], 'pqr': ['stu', 'vwx', 'yz', 'abc.def.ghi.jkl.mno.pqr.stu.vwx.yz'], 'stu': ['vwx', 'yz', 'abc.def.ghi.jkl.mno.pqr.stu.vwx.yz'], 'vwx': ['yz', 'abc.def.ghi.jkl.mno.pqr.stu.vwx.yz'], 'yz': 'you are finally here !!!', 'abc.def.ghi.jkl.mno.pqr.stu.vwx.yz': 'you are finally here !!!'}\n"
     ]
    }
   ],
   "source": [
    "def flatten_dict(input_dict, path=None):\n",
    "    if path is None:\n",
    "        path = []\n",
    "    output = {}\n",
    "    for key, value in input_dict.items():\n",
    "        new_path = path + [key]\n",
    "        if isinstance(value, dict):\n",
    "            nested_output = flatten_dict(value, new_path)\n",
    "            output[key] = list(nested_output.keys())\n",
    "            output.update(nested_output)\n",
    "        else:\n",
    "            output[key] = value\n",
    "            current_path = \".\".join(new_path)\n",
    "            output[current_path] = value\n",
    "    return output\n",
    "\n",
    "input_dict = {\"abc\":{\"def\":{\"ghi\":{\"jkl\":{\"mno\":{\"pqr\":{\"stu\":{\"vwx\":{\"yz\":\"you are finally here !!!\"}}}}}}}}}\n",
    "output = flatten_dict(input_dict)\n",
    "print(output)"
   ]
  }
 ],
 "metadata": {
  "kernelspec": {
   "display_name": "Python 3 (ipykernel)",
   "language": "python",
   "name": "python3"
  },
  "language_info": {
   "codemirror_mode": {
    "name": "ipython",
    "version": 3
   },
   "file_extension": ".py",
   "mimetype": "text/x-python",
   "name": "python",
   "nbconvert_exporter": "python",
   "pygments_lexer": "ipython3",
   "version": "3.11.3"
  }
 },
 "nbformat": 4,
 "nbformat_minor": 5
}
