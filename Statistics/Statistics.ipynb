{
 "cells": [
  {
   "cell_type": "markdown",
   "id": "742d87a5",
   "metadata": {},
   "source": [
    "# Statistics Answers"
   ]
  },
  {
   "cell_type": "markdown",
   "id": "81df9e90",
   "metadata": {},
   "source": [
    "### Answer 1"
   ]
  },
  {
   "cell_type": "markdown",
   "id": "8f4d1ae2",
   "metadata": {},
   "source": [
    "Six Sigma, in statistics, refers to a methodology for continuous improvement focused on minimizing defects and maximizing quality. It's a data-driven approach that utilizes statistical analysis to identify and eliminate the root causes of variation and errors in any process.\n",
    "\n",
    "Core Idea:\n",
    "The term \"Six Sigma\" comes from the concept of statistical standard deviation (σ, sigma).\n",
    "A process is considered to be at \"Six Sigma\" level if its product or service has a very low defect rate, typically less than 3.4 defects per million opportunities (DPMO).This translates to a 99.99966% success rate, signifying a highly reliable and efficient process.\n",
    "\n",
    "Methodology:\n",
    "Six Sigma follows a structured approach called DMAIC:\n",
    "Define: Clearly define the problem, goals, and customer requirements.\n",
    "Measure: Collect data to quantify the current performance of the process.\n",
    "Analyze: Analyze the data to identify the root causes of defects and variations.\n",
    "Improve: Implement solutions to eliminate the identified root causes.\n",
    "Control: Monitor and control the process to ensure sustained improvement.\n",
    "\n",
    "Example:\n",
    "\n",
    "Imagine a manufacturing company producing light bulbs. Their goal might be to reduce the number of defective bulbs (those that don't light up or burn out prematurely).\n",
    "They can implement Six Sigma by:\n",
    "Define: Define the defect rate they want to achieve (e.g., less than 1 DPMO).\n",
    "Measure: Track the current defect rate by collecting data on how many bulbs are defective out of the total produced.\n",
    "Analyze: Analyze the data to see what factors are causing defects (e.g., faulty materials, machine malfunctions, improper handling).\n",
    "Improve: Implement solutions like improving material quality, calibrating machines, or implementing better handling procedures.\n",
    "Control: Continuously monitor the defect rate and make adjustments as needed to maintain the desired level of quality.\n",
    "\n",
    "By following Six Sigma principles, companies can achieve significant improvements in:\n",
    "\n",
    "Reduced costs: Fewer defects mean less wasted material and rework.\n",
    "Increased customer satisfaction: Customers receive products or services that meet their expectations.\n",
    "Enhanced process efficiency: Eliminating inefficiencies and errors streamlines production.\n",
    "Improved product quality: Consistent focus on quality leads to better products and services."
   ]
  },
  {
   "cell_type": "markdown",
   "id": "7a5c6f75",
   "metadata": {},
   "source": []
  },
  {
   "cell_type": "markdown",
   "id": "42c23068",
   "metadata": {},
   "source": [
    "### Answer 2"
   ]
  },
  {
   "cell_type": "markdown",
   "id": "e16e2c72",
   "metadata": {},
   "source": [
    "There are many types of data that do not follow a log-normal or Gaussian (normal) distribution. Here are some examples with explanations:\n",
    "\n",
    "\n",
    "1.Discrete Data:\n",
    "\n",
    "Log-normal and Gaussian distributions are continuous distributions, meaning their values can theoretically fall anywhere within a specific range. Discrete data, on the other hand, can only take on specific whole number values.\n",
    "Examples:\n",
    "1.Number of customers served in a day (can't be 2.5 customers)\n",
    "2.Number of times a website is visited in an hour (can't be 0.75 visits)\n",
    "\n",
    "These types of data typically follow discrete distributions like Poisson distribution (number of events in a fixed interval) or Binomial distribution (successes in a fixed number of trials).\n",
    "\n",
    "\n",
    "\n",
    "\n",
    "2.Data with Bounded Limits:\n",
    "\n",
    "Log-normal and Gaussian distributions can extend infinitely in both positive and negative directions (though the probability of extreme values is very low). Some data sets have natural upper or lower bounds.\n",
    "Examples:\n",
    "1.Income levels (can't be negative)\n",
    "2.Age of people (can't be negative)\n",
    "\n",
    "These types of data might be better represented by distributions like Beta distribution (values between 0 and 1) or truncated versions of normal or log-normal distributions (values within a specific range).\n",
    "\n",
    "\n",
    "\n",
    "\n",
    "3.Highly Skewed Data:\n",
    "\n",
    "Log-normal distributions can have positive skew (more values on the right side), but Gaussian distributions can be symmetrical (bell-shaped). Some data sets are heavily skewed in one direction.\n",
    "Examples:\n",
    "1.Housing prices (usually more houses towards the lower end, with a few very expensive ones)\n",
    "2.Response times on a customer service line (most calls are answered quickly, but some take much longer)\n",
    "\n",
    "These types of data might be better represented by skewed distributions like Gamma distribution (positive skew) or Logarithmic distribution (right skew for very small values).\n",
    "\n",
    "\n",
    "\n",
    "\n",
    "4.Categorical Data:\n",
    "\n",
    "Log-normal and Gaussian distributions deal with numerical dataCategorical data consists of non-numerical labels or categories.\n",
    "Examples:\n",
    "1.Hair color (blonde, brunette, etc.)\n",
    "2.Customer satisfaction rating (very satisfied, satisfied, etc.)\n",
    "\n",
    "Categorical data requires different statistical methods like Chi-square tests or multinomial distributions for analysis."
   ]
  },
  {
   "cell_type": "markdown",
   "id": "956a6e93",
   "metadata": {},
   "source": []
  },
  {
   "cell_type": "markdown",
   "id": "0900c248",
   "metadata": {},
   "source": [
    "### Answer 3"
   ]
  },
  {
   "cell_type": "markdown",
   "id": "1cd248bb",
   "metadata": {},
   "source": [
    "The five-number summary is a set of five descriptive statistics that provides a concise overview of the distribution of a dataset. It helps you understand the center, spread, and potential skewness of the data without looking at every single value.\n",
    "\n",
    "Here's a breakdown of the five numbers and their meaning:\n",
    "\n",
    "Minimum: The smallest value in the dataset. It represents the lowest data point.\n",
    "\n",
    "First Quartile (Q1): The value that separates the bottom 25% of the data from the top 75%. It tells you where the \"middle\" of the lower half of the data falls.\n",
    "\n",
    "Median: The middle value of the entire dataset when ordered from least to greatest. It represents the 50th percentile, with half the data falling below it and half above it.\n",
    "\n",
    "Third Quartile (Q3): The value that separates the top 75% of the data from the bottom 25%. It tells you where the \"middle\" of the upper half of the data falls.\n",
    "\n",
    "Maximum: The largest value in the dataset. It represents the highest data point.\n",
    "\n",
    "Example:\n",
    "Scores: (65, 72, 81, 84, 85, 86, 87, 88, 89, 90, 91, 92, 93, 94, 95, 96, 97, 98, 99, 100)\n",
    "\n",
    "Five-Number Summary:\n",
    "\n",
    "Minimum: 65\n",
    "First Quartile (Q1): 84\n",
    "Median: 90.5\n",
    "Third Quartile (Q3): 96\n",
    "Maximum: 100\n",
    "\n",
    "With this five-number summary, we can understand the range of scores, the spread of scores within each quartile, and identify any potential outliers."
   ]
  },
  {
   "cell_type": "markdown",
   "id": "2a71e065",
   "metadata": {},
   "source": []
  },
  {
   "cell_type": "markdown",
   "id": "7e354d90",
   "metadata": {},
   "source": [
    "### Answer 4"
   ]
  },
  {
   "cell_type": "markdown",
   "id": "68dda201",
   "metadata": {},
   "source": [
    "Correlation refers to the statistical relationship between two variables. It measures the extent to which two variables change together. There are different types of correlation:\n",
    "\n",
    "Positive Correlation: When one variable increases, the other variable tends to increase as well, or vice versa (they move in the same direction).\n",
    "\n",
    "Negative Correlation: When one variable increases, the other variable tends to decrease, and vice versa (they move in opposite directions).\n",
    "\n",
    "No Correlation: There is no statistically significant relationship between the two variables.\n"
   ]
  },
  {
   "cell_type": "markdown",
   "id": "3c3db878",
   "metadata": {},
   "source": [
    "#Example: Correlation between Height and Weight"
   ]
  },
  {
   "cell_type": "code",
   "execution_count": 3,
   "id": "8757ba06",
   "metadata": {},
   "outputs": [],
   "source": [
    "import pandas as pd\n",
    "import matplotlib.pyplot as plt"
   ]
  },
  {
   "cell_type": "code",
   "execution_count": 16,
   "id": "95921fd7",
   "metadata": {},
   "outputs": [
    {
     "name": "stdout",
     "output_type": "stream",
     "text": [
      "Correlation coefficient: 0.9887558859348534\n"
     ]
    },
    {
     "data": {
      "image/png": "[encoded data removed]",
      "text/plain": [
       "<Figure size 640x480 with 1 Axes>"
      ]
     },
     "metadata": {},
     "output_type": "display_data"
    }
   ],
   "source": [
    "# Create a DataFrame with the example data\n",
    "data= {\n",
    "    'heights': [170, 180, 165, 175, 190, 185, 150, 160, 178, 200],\n",
    "    'weights': [65, 72, 58, 70, 85, 80, 48, 55, 68, 90]\n",
    "}\n",
    "df= pd.DataFrame(data)\n",
    "\n",
    "# Calculate the correlation coefficient\n",
    "correlation = df['heights'].corr(df['weights'])\n",
    "print(\"Correlation coefficient:\", correlation)\n",
    "\n",
    "# Scatter plot to visualize the relationship\n",
    "plt.scatter(data['heights'], data['weights'])\n",
    "plt.xlabel('heights (cm)')\n",
    "plt.ylabel('weights (kg)')\n",
    "plt.title('heights vs. weights')\n",
    "plt.grid(True)\n",
    "plt.show()"
   ]
  },
  {
   "cell_type": "markdown",
   "id": "c9a6cfa0",
   "metadata": {},
   "source": [
    "The scatter plot visually represents the relationship between height and weight. If there's a positive correlation, the data points will tend to form a diagonal line from the bottom left to the top right. If there's a negative correlation, the data points will form a diagonal line from the top left to the bottom right. A random scattering of points suggests no significant correlation."
   ]
  }
 ],
 "metadata": {
  "kernelspec": {
   "display_name": "Python 3 (ipykernel)",
   "language": "python",
   "name": "python3"
  },
  "language_info": {
   "codemirror_mode": {
    "name": "ipython",
    "version": 3
   },
   "file_extension": ".py",
   "mimetype": "text/x-python",
   "name": "python",
   "nbconvert_exporter": "python",
   "pygments_lexer": "ipython3",
   "version": "3.11.3"
  }
 },
 "nbformat": 4,
 "nbformat_minor": 5
}
